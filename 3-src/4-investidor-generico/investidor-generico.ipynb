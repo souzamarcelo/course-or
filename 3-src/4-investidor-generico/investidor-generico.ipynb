{
 "cells": [
  {
   "cell_type": "markdown",
   "id": "geological-acting",
   "metadata": {},
   "source": [
    "<div align=\"right\" style=\"text-align:right\"><a rel=\"license\" href=\"http://creativecommons.org/licenses/by-nc-nd/4.0/\"><img alt=\"Licença Creative Commons\" style=\"border-width:0; float:right\" src=\"https://i.creativecommons.org/l/by-nc-nd/4.0/88x31.png\" /></a><br><br><i>Prof. Marcelo de Souza</i><br>marcelo.desouza@udesc.br</div>"
   ]
  },
  {
   "cell_type": "markdown",
   "id": "electric-pointer",
   "metadata": {},
   "source": [
    "# Investidor [genérico]\n",
    "\n",
    "Programação linear com Pyomo.\n",
    "\n",
    "---\n",
    "\n",
    "**Dados:**\n",
    "+ $C$: capital\n",
    "+ $r_i$: rendimento do investimento $i = \\{1, \\ldots, n\\}$\n",
    "+ $\\text{m}^\\prime_i$: percentual mínimo do investimento $i = \\{1, \\ldots, n\\}$\n",
    "+ $\\text{m}^{\\prime\\prime}_i$: percentual máximo do investimento $i = \\{1, \\ldots, n\\}$\n",
    "\n",
    "**Variáveis de decisão:**\n",
    "+ $x_i$: valor indicado para o investimento $i = \\{1, \\ldots, n\\}$\n",
    "\n",
    "**Com isso, temos o modelo:**\n",
    "\n",
    "$$\n",
    "\\begin{align} \n",
    "  \\text{maximiza}\\quad  &\\sum_{i=1}^{n} r_i x_i \\\\\n",
    "  \\text{sujeito a}\\quad &\\sum_{i=1}^{n} x_i = C \\\\\n",
    "                        &x_j \\ge m^\\prime_j \\left(\\sum_{i=1}^n x_i\\right),\\quad &j = \\{1, \\ldots, n\\} \\\\\n",
    "                        &x_j \\le m_j^{\\prime\\prime} \\left(\\sum_{i=1}^n x_i\\right),\\quad &j = \\{1, \\ldots, n\\} \\\\\n",
    "                        &x_i \\ge 0,\\quad &i = \\{1, \\ldots, n\\}\n",
    "\\end{align} \n",
    "$$\n",
    "\n",
    "---"
   ]
  },
  {
   "cell_type": "markdown",
   "id": "a4fc4958",
   "metadata": {},
   "source": [
    "Preparação para execução no Google Colab"
   ]
  },
  {
   "cell_type": "code",
   "execution_count": null,
   "id": "94fd2b67",
   "metadata": {},
   "outputs": [],
   "source": [
    "!pip install -qq pyomo\n",
    "!apt-get install -y -qq glpk-utils"
   ]
  },
  {
   "cell_type": "code",
   "execution_count": 2,
   "id": "3c1da1a0-dbc9-47a3-9385-a02b6a9bfe70",
   "metadata": {},
   "outputs": [],
   "source": [
    "instance = {\n",
    "    'n': 4,\n",
    "    'r': [0.05, 0.02, 0.1, 0.04],\n",
    "    'C': 23000,\n",
    "    'm1': [0.21, 0.07, 0.14, 0.11],\n",
    "    'm2': [0.53, 0.51, 0.42, 0.42]\n",
    "}"
   ]
  },
  {
   "cell_type": "code",
   "execution_count": 7,
   "id": "timely-dispatch",
   "metadata": {},
   "outputs": [
    {
     "name": "stdout",
     "output_type": "stream",
     "text": [
      "Investimentos:\n",
      "1: 9200.0\n",
      "2: 1610.0\n",
      "3: 9660.0\n",
      "4: 2530.0\n",
      "Rendimento: 1559.4\n"
     ]
    }
   ],
   "source": [
    "from pyomo.environ import *\n",
    "\n",
    "model = ConcreteModel()\n",
    "\n",
    "model.x = Var(range(instance['n']), domain=NonNegativeReals)\n",
    "\n",
    "model.obj = Objective(expr=sum(model.x[i] * instance['r'][i] for i in range(instance['n'])), sense=maximize)\n",
    "\n",
    "model.constraints = ConstraintList()\n",
    "model.constraints.add(sum(model.x[i] for i in range(instance['n'])) == instance['C'])\n",
    "\n",
    "for j in range(instance['n']):\n",
    "    model.constraints.add(model.x[j] >= instance['m1'][j] * sum(model.x[i] for i in range(instance['n'])))\n",
    "    model.constraints.add(model.x[j] <= instance['m2'][j] * sum(model.x[i] for i in range(instance['n'])))\n",
    "    \n",
    "solver = SolverFactory('glpk')\n",
    "results = solver.solve(model)\n",
    "\n",
    "if results.solver.termination_condition == 'optimal':\n",
    "    print('Investimentos:')\n",
    "    for i in range(instance['n']):\n",
    "        print(f'{i+1}: {model.x[i]()}')\n",
    "    print(f'Rendimento: {model.obj()}')\n",
    "else:\n",
    "    print()"
   ]
  }
 ],
 "metadata": {
  "kernelspec": {
   "display_name": "Python 3 (ipykernel)",
   "language": "python",
   "name": "python3"
  },
  "language_info": {
   "codemirror_mode": {
    "name": "ipython",
    "version": 3
   },
   "file_extension": ".py",
   "mimetype": "text/x-python",
   "name": "python",
   "nbconvert_exporter": "python",
   "pygments_lexer": "ipython3",
   "version": "3.10.16"
  }
 },
 "nbformat": 4,
 "nbformat_minor": 5
}
