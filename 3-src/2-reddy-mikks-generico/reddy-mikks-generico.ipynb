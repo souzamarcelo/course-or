{
 "cells": [
  {
   "cell_type": "markdown",
   "id": "trying-least",
   "metadata": {},
   "source": [
    "<div align=\"right\" style=\"text-align:right\"><a rel=\"license\" href=\"http://creativecommons.org/licenses/by-nc-nd/4.0/\"><img alt=\"Licença Creative Commons\" style=\"border-width:0; float:right\" src=\"https://i.creativecommons.org/l/by-nc-nd/4.0/88x31.png\" /></a><br><br><i>Prof. Marcelo de Souza</i><br>marcelo.desouza@udesc.br</div>"
   ]
  },
  {
   "cell_type": "markdown",
   "id": "sophisticated-threshold",
   "metadata": {},
   "source": [
    "# Reddy Mikks [genérico]\n",
    "\n",
    "Programação linear com Pyomo.\n",
    "\n",
    "---\n",
    "\n",
    "$\n",
    "\\begin{aligned}\n",
    "    \\text{maximiza} \\quad & \\sum_{i=1}^{n}L_i x_i\\\\[.3em]\n",
    "    \\text{sujeito a} \\quad & x_i \\le P_i \\quad&, i = \\{1,2,\\ldots,n\\}\\\\\n",
    "              & \\sum_{i=1}^{n} Q_{ij}x_i \\le E_j \\quad&, i = \\{1,2,\\ldots,m\\}\\\\\n",
    "              & x_i \\ge 0 \\quad&, i = \\{1,2,\\ldots,n\\}\n",
    "\\end{aligned}\n",
    "$\n",
    "\n",
    "---"
   ]
  },
  {
   "cell_type": "markdown",
   "id": "3abced69",
   "metadata": {},
   "source": [
    "Preparação para execução no Google Colab"
   ]
  },
  {
   "cell_type": "code",
   "execution_count": null,
   "id": "71204272",
   "metadata": {},
   "outputs": [],
   "source": [
    "!pip install -qq pyomo\n",
    "!apt-get install -y -qq glpk-utils"
   ]
  },
  {
   "cell_type": "code",
   "execution_count": 5,
   "id": "83da708e-f4f8-4e14-8e54-4dd725b59983",
   "metadata": {},
   "outputs": [],
   "source": [
    "n = 3\n",
    "L = [4, 5, 3]\n",
    "P = [2, 3, 7]\n",
    "m = 4\n",
    "E = [20, 12, 40, 8]\n",
    "Q = [[4, 7, 12, 8],\n",
    "     [7, 10, 18, 6],\n",
    "     [4, 3, 3, 6]]"
   ]
  },
  {
   "cell_type": "code",
   "execution_count": 7,
   "id": "agreed-accessory",
   "metadata": {},
   "outputs": [
    {
     "name": "stdout",
     "output_type": "stream",
     "text": [
      "Optimal solution cost: 6.28571428571427\n",
      "Optimal solution:\n",
      "x1 = 0.0\n",
      "x2 = 1.14285714285714\n",
      "x3 = 0.19047619047619\n"
     ]
    }
   ],
   "source": [
    "from pyomo.environ import *\n",
    "\n",
    "model = ConcreteModel()\n",
    "\n",
    "model.x = Var([_ for _ in range(n)], domain=NonNegativeReals)\n",
    "\n",
    "model.obj = Objective(expr=sum(L[i] * model.x[i] for i in range(n)), sense=maximize)\n",
    "\n",
    "model.constraints = ConstraintList()\n",
    "\n",
    "for i in range(n):\n",
    "    model.constraints.add(model.x[i] <= P[i])\n",
    "\n",
    "for j in range(m):\n",
    "    model.constraints.add(sum(Q[i][j] * model.x[i] for i in range(n)) <= E[j])\n",
    "    \n",
    "opt = SolverFactory('glpk', executable='/usr/bin/glpsol')\n",
    "results = opt.solve(model)\n",
    "\n",
    "if results.solver.termination_condition == 'optimal':\n",
    "    print('Optimal solution cost:', model.obj.expr())\n",
    "    print('Optimal solution:')\n",
    "    for i in range(n):\n",
    "        print(f'x{i+1} = {model.x[i].value}')"
   ]
  }
 ],
 "metadata": {
  "kernelspec": {
   "display_name": "Python 3 (ipykernel)",
   "language": "python",
   "name": "python3"
  },
  "language_info": {
   "codemirror_mode": {
    "name": "ipython",
    "version": 3
   },
   "file_extension": ".py",
   "mimetype": "text/x-python",
   "name": "python",
   "nbconvert_exporter": "python",
   "pygments_lexer": "ipython3",
   "version": "3.10.16"
  }
 },
 "nbformat": 4,
 "nbformat_minor": 5
}
